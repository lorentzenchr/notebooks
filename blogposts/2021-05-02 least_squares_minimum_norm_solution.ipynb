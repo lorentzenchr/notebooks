{
 "cells": [
  {
   "cell_type": "markdown",
   "id": "common-photograph",
   "metadata": {},
   "source": [
    "# Least Squares Minimum Norm\n",
    "\n",
    "Let $A \\in R^{n, p}$ and $b \\in R^n$. The least squares problem is defined as\n",
    "$$x^\\star = argmin_{x \\in R^p} ||Ax - b||_2^2$$\n",
    "\n",
    "In the case of singular matrices $A$ or unterdetermined matrices, $n < p$, the above is not precisely defined and permits many solutions $x^\\star$. In those cases, a more precise defintion is the **minimum norm least squares** solution\n",
    "$$x^\\star = argmin_{x \\in R^p} ||x||_2 \\quad \\text{subject to}\\quad min_{x \\in R^p} ||Ax - b||_2^2$$\n",
    "\n",
    "Good concise reference:</br>\n",
    "- Do Q Lee (2012), Numerically Efficient Methods For Solving Least Squares Problems</br>\n",
    "  http://math.uchicago.edu/~may/REU2012/REUPapers/Lee.pdf</br>\n",
    "- Also a good source wrt OLS is</br>\n",
    "  https://arxiv.org/abs/1903.08560"
   ]
  },
  {
   "cell_type": "code",
   "execution_count": 1,
   "id": "opening-modeling",
   "metadata": {},
   "outputs": [],
   "source": [
    "from pprint import pprint\n",
    "import matplotlib.pyplot as plt\n",
    "import numpy as np\n",
    "from numpy.linalg import norm\n",
    "from scipy.stats import ortho_group\n",
    "from scipy import linalg\n",
    "from scipy.sparse import linalg as spla\n",
    "\n",
    "\n",
    "def generate_U_S_Vt(n=10, p=5, random_state=532):\n",
    "    \"\"\"Generate SVD to construct a regular matrix A.\n",
    "    \n",
    "    A has n rows, p columns.\n",
    "    \n",
    "    Returns\n",
    "    -------\n",
    "    U: orthogonal matrix\n",
    "    S: diagonal matrix\n",
    "    Vt: orthogonal matrix\n",
    "    \"\"\"\n",
    "    r = min(n, p)\n",
    "    S = np.diag(1.0 * np.arange(1, 1 + r))\n",
    "    if n > p:\n",
    "        # add rows with value 0\n",
    "        S = np.concatenate((S, np.zeros((n - p, p))), axis=0)\n",
    "    elif p > n:\n",
    "        # add columns with value 0\n",
    "        S = np.concatenate((S, np.zeros((n, p - n))), axis=1)\n",
    "    U = ortho_group.rvs(n, random_state=random_state)\n",
    "    Vt = ortho_group.rvs(p, random_state=random_state + 1)\n",
    "    return U, S, Vt\n",
    "\n",
    "\n",
    "def solve_least_squares(A, b):\n",
    "    \"\"\"Solve least squares with several methods.\n",
    "    \n",
    "    Returns\n",
    "    ------\n",
    "    x : dictionary with solver and solution\n",
    "    \"\"\"\n",
    "    x = {}\n",
    "    x[\"gelsd\"] = linalg.lstsq(A, b, lapack_driver=\"gelsd\")[0]\n",
    "    x[\"gelsy\"] = linalg.lstsq(A, b, lapack_driver=\"gelsy\")[0]\n",
    "    x[\"lsqr\"] = spla.lsqr(A, b)[0]\n",
    "    x[\"lsmr\"] = spla.lsmr(A, b)[0]\n",
    "    x[\"normal_eq\"] = linalg.solve(A.T @ A, A.T @ b, assume_a=\"sym\")\n",
    "\n",
    "    return x\n",
    "\n",
    "\n",
    "def print_dict(d):\n",
    "    np.set_string_function(np.array2string)\n",
    "    pprint(d)\n",
    "    np.set_string_function(None)\n",
    "        \n",
    "        \n",
    "np.set_printoptions(precision=5)"
   ]
  },
  {
   "cell_type": "markdown",
   "id": "unnecessary-magic",
   "metadata": {},
   "source": [
    "## Overdetermined Problems"
   ]
  },
  {
   "cell_type": "markdown",
   "id": "engaged-beatles",
   "metadata": {},
   "source": [
    "### Regular (Non-Singular) System"
   ]
  },
  {
   "cell_type": "code",
   "execution_count": 2,
   "id": "chemical-denial",
   "metadata": {},
   "outputs": [
    {
     "name": "stdout",
     "output_type": "stream",
     "text": [
      "x_exact = [ 0.78087 -4.74942 -0.99938 -2.38327 -3.7431 ]\n",
      "{'gelsd': [ 0.78087 -4.74942 -0.99938 -2.38327 -3.7431 ],\n",
      " 'gelsy': [ 0.78087 -4.74942 -0.99938 -2.38327 -3.7431 ],\n",
      " 'lsmr': [ 0.78087 -4.74942 -0.99938 -2.38327 -3.7431 ],\n",
      " 'lsqr': [ 0.78087 -4.74942 -0.99938 -2.38327 -3.7431 ],\n",
      " 'normal_eq': [ 0.78087 -4.74942 -0.99938 -2.38327 -3.7431 ]}\n"
     ]
    }
   ],
   "source": [
    "n = 10\n",
    "p = 5\n",
    "\n",
    "U, S, Vt = generate_U_S_Vt(n=n, p=p)\n",
    "A = U @ S @ Vt\n",
    "\n",
    "x_true = np.round(6 * Vt.T[:p, 0])  # interesting choice\n",
    "rng = np.random.default_rng(157)\n",
    "noise = rng.standard_normal(n)\n",
    "b = A @ x_true + noise\n",
    "\n",
    "S_inv = np.copy(S.T)\n",
    "S_inv[S_inv>0] = 1/S_inv[S_inv>0]\n",
    "\n",
    "x_exact = Vt.T @ S_inv @ U.T @ b\n",
    "\n",
    "print(f\"x_exact = {x_exact}\")\n",
    "print_dict(solve_least_squares(A, b))"
   ]
  },
  {
   "cell_type": "code",
   "execution_count": 3,
   "id": "54ffd138-36d1-449a-8945-b620c6bb7e2f",
   "metadata": {},
   "outputs": [
    {
     "data": {
      "text/plain": [
       "2.1991578596425243"
      ]
     },
     "execution_count": 3,
     "metadata": {},
     "output_type": "execute_result"
    }
   ],
   "source": [
    "norm(A @ x_exact - b)"
   ]
  },
  {
   "cell_type": "markdown",
   "id": "possible-practice",
   "metadata": {},
   "source": [
    "### Singular System\n",
    "We set the first singular value of `A_sing` to zero. `A_sing` is has rank $r = p - 1 = 4$."
   ]
  },
  {
   "cell_type": "code",
   "execution_count": 4,
   "id": "continent-stations",
   "metadata": {},
   "outputs": [
    {
     "name": "stdout",
     "output_type": "stream",
     "text": [
      "x_exact = [-0.21233  0.00708  0.34973 -0.30223 -0.0235 ]\n",
      "{'gelsd': [-0.21233  0.00708  0.34973 -0.30223 -0.0235 ],\n",
      " 'gelsy': [-0.21233  0.00708  0.34973 -0.30223 -0.0235 ],\n",
      " 'lsmr': [-0.21233  0.00708  0.34973 -0.30223 -0.0235 ],\n",
      " 'lsqr': [-0.21233  0.00708  0.34973 -0.30223 -0.0235 ],\n",
      " 'normal_eq': [-0.08393 -0.60784  0.17531 -0.57127 -0.50437]}\n"
     ]
    },
    {
     "name": "stderr",
     "output_type": "stream",
     "text": [
      "/Users/lorentzen/github/python3_general/lib/python3.7/site-packages/ipykernel_launcher.py:46: LinAlgWarning: Ill-conditioned matrix (rcond=3.30641e-17): result may not be accurate.\n"
     ]
    }
   ],
   "source": [
    "S[0, 0] = 0\n",
    "A = U @ S @ Vt\n",
    "\n",
    "S_inv = np.copy(S.T)\n",
    "S_inv[S_inv>0] = 1/S_inv[S_inv>0]\n",
    "\n",
    "# Minimum Norm Solution\n",
    "x_exact = Vt.T @ S_inv @ U.T @ b\n",
    "\n",
    "print(f\"x_exact = {x_exact}\")\n",
    "x_solution = solve_least_squares(A, b)\n",
    "print_dict(x_solution)"
   ]
  },
  {
   "cell_type": "code",
   "execution_count": 5,
   "id": "744e3426-caff-491d-8fa7-0860e37b310b",
   "metadata": {},
   "outputs": [
    {
     "name": "stdout",
     "output_type": "stream",
     "text": [
      "norm of x:\n",
      "x_exact:   0.5092520023062155\n",
      "normal_eq: 0.993975690303498\n",
      "\n",
      "norm of Ax-b:\n",
      "x_exact:   6.9594032092014935\n",
      "normal_eq: 6.9594032092014935\n"
     ]
    }
   ],
   "source": [
    "print(f\"norm of x:\\n\"\n",
    "      f\"x_exact:   {norm(x_exact)}\\n\"\n",
    "      f\"normal_eq: {norm(x_solution['normal_eq'])}\\n\"\n",
    "     )\n",
    "print(f\"norm of Ax-b:\\n\"\n",
    "      f\"x_exact:   {norm(A @ x_exact - b)}\\n\"\n",
    "      f\"normal_eq: {norm(A @ x_solution['normal_eq'] - b)}\"\n",
    "     )"
   ]
  },
  {
   "cell_type": "code",
   "execution_count": 6,
   "id": "fossil-cause",
   "metadata": {},
   "outputs": [
    {
     "name": "stderr",
     "output_type": "stream",
     "text": [
      "/Users/lorentzen/github/python3_general/lib/python3.7/site-packages/ipykernel_launcher.py:2: LinAlgWarning: Ill-conditioned matrix (rcond=3.30641e-17): result may not be accurate.\n",
      "  \n"
     ]
    },
    {
     "data": {
      "text/plain": [
       "array([-0.08393, -0.60784,  0.17531, -0.57127, -0.50437])"
      ]
     },
     "execution_count": 6,
     "metadata": {},
     "output_type": "execute_result"
    }
   ],
   "source": [
    "# Warning stems from this\n",
    "linalg.solve(A.T @ A, A.T @ b, assume_a='sym')"
   ]
  },
  {
   "cell_type": "markdown",
   "id": "crude-enforcement",
   "metadata": {},
   "source": [
    "Null space of $A_{sing}$ is given by $V_1 t$ with $t \\in R^1$ because the first singular value is zero, all others are larger than zero.\n",
    "Note that Python uses zero-based indexing, while in the formula above, we use $1$ as first index."
   ]
  },
  {
   "cell_type": "code",
   "execution_count": 7,
   "id": "literary-smile",
   "metadata": {},
   "outputs": [
    {
     "data": {
      "text/plain": [
       "array([[ 1.66533e-15],\n",
       "       [-6.66134e-16],\n",
       "       [-1.11022e-16],\n",
       "       [ 1.80411e-16],\n",
       "       [ 1.55431e-15],\n",
       "       [-3.05311e-16],\n",
       "       [-1.66533e-16],\n",
       "       [ 4.99600e-16],\n",
       "       [-6.66134e-16],\n",
       "       [-3.33067e-16]])"
      ]
     },
     "execution_count": 7,
     "metadata": {},
     "output_type": "execute_result"
    }
   ],
   "source": [
    "A @ Vt.T[:p, :1] #@ np.ones(1)"
   ]
  },
  {
   "cell_type": "code",
   "execution_count": 8,
   "id": "brazilian-beaver",
   "metadata": {},
   "outputs": [
    {
     "data": {
      "text/plain": [
       "array([5.00000e+00, 4.00000e+00, 3.00000e+00, 2.00000e+00, 2.19458e-16])"
      ]
     },
     "execution_count": 8,
     "metadata": {},
     "output_type": "execute_result"
    }
   ],
   "source": [
    "linalg.svd(A, compute_uv=False)"
   ]
  },
  {
   "cell_type": "code",
   "execution_count": 9,
   "id": "217263c8-8b83-4fd1-abd6-b6bd8e95b5b4",
   "metadata": {},
   "outputs": [
    {
     "data": {
      "text/plain": [
       "Text(0.5, 1.0, 'Euclidean norm of solution and residual')"
      ]
     },
     "execution_count": 9,
     "metadata": {},
     "output_type": "execute_result"
    },
    {
     "data": {
      "image/png": "[encoded data removed]",
      "text/plain": [
       "<Figure size 432x288 with 1 Axes>"
      ]
     },
     "metadata": {
      "needs_background": "light"
     },
     "output_type": "display_data"
    }
   ],
   "source": [
    "t = np.linspace(-3, 3, 100)  # free parameter\n",
    "# column vectos of x_lsq are least squares solutions\n",
    "x_lsq = (x_exact + Vt.T[:, 0] * t.reshape(-1, 1)).T\n",
    "x_norm = np.linalg.norm(x_lsq, axis=0)\n",
    "lsq_norm = np.linalg.norm(A @ x_lsq - b.reshape(-1, 1), axis=0)\n",
    "\n",
    "plt.plot(t, 2 * x_norm, label=\"2 * norm of x\")\n",
    "plt.plot(t, lsq_norm, label=\"norm of Ax-b\")\n",
    "plt.legend()\n",
    "plt.xlabel(\"t\")\n",
    "plt.ylabel(\"Norm\")\n",
    "plt.title(\"Euclidean norm of solution and residual\")\n",
    "# plt.savefig(\"least_squares_solution_norms.png\")"
   ]
  },
  {
   "cell_type": "markdown",
   "id": "final-behalf",
   "metadata": {},
   "source": [
    "#### Tiny Perturbation of $b$"
   ]
  },
  {
   "cell_type": "code",
   "execution_count": 10,
   "id": "blind-phase",
   "metadata": {},
   "outputs": [
    {
     "name": "stdout",
     "output_type": "stream",
     "text": [
      "x_exact = [-0.21233  0.00708  0.34973 -0.30223 -0.0235 ]\n",
      "{'gelsd': [-0.21233  0.00708  0.34973 -0.30223 -0.0235 ],\n",
      " 'gelsy': [-0.21233  0.00708  0.34973 -0.30223 -0.0235 ],\n",
      " 'lsmr': [-0.21233  0.00708  0.34973 -0.30223 -0.0235 ],\n",
      " 'lsqr': [-0.21233  0.00708  0.34973 -0.30223 -0.0235 ],\n",
      " 'normal_eq': [-0.12487 -0.41176  0.23093 -0.48548 -0.35104]}\n"
     ]
    },
    {
     "name": "stderr",
     "output_type": "stream",
     "text": [
      "/Users/lorentzen/github/python3_general/lib/python3.7/site-packages/ipykernel_launcher.py:46: LinAlgWarning: Ill-conditioned matrix (rcond=3.30641e-17): result may not be accurate.\n"
     ]
    }
   ],
   "source": [
    "eps = 1e-10\n",
    "print(f\"x_exact = {x_exact}\")\n",
    "print_dict(solve_least_squares(A, b + eps))"
   ]
  },
  {
   "cell_type": "markdown",
   "id": "freelance-vector",
   "metadata": {},
   "source": [
    "### Ill-conditioned System\n",
    "We set the first singular value of `A_ill` to 1e-10. "
   ]
  },
  {
   "cell_type": "code",
   "execution_count": 11,
   "id": "powered-bristol",
   "metadata": {},
   "outputs": [
    {
     "name": "stdout",
     "output_type": "stream",
     "text": [
      "x_exact = [ 9.93195e+09 -4.75650e+10 -1.34911e+10 -2.08104e+10 -3.71960e+10]\n",
      "{'gelsd': [ 9.93194e+09 -4.75650e+10 -1.34910e+10 -2.08104e+10 -3.71960e+10],\n",
      " 'gelsy': [ 9.93196e+09 -4.75650e+10 -1.34911e+10 -2.08104e+10 -3.71961e+10],\n",
      " 'lsmr': [-0.21233  0.00708  0.34973 -0.30223 -0.0235 ],\n",
      " 'lsqr': [-0.21233  0.00708  0.34973 -0.30223 -0.0235 ],\n",
      " 'normal_eq': [  48559.67679 -232557.57746  -65960.92822 -101747.66128 -181861.06429]}\n"
     ]
    },
    {
     "name": "stderr",
     "output_type": "stream",
     "text": [
      "/Users/lorentzen/github/python3_general/lib/python3.7/site-packages/ipykernel_launcher.py:46: LinAlgWarning: Ill-conditioned matrix (rcond=4.60305e-17): result may not be accurate.\n"
     ]
    }
   ],
   "source": [
    "S[0, 0] = 1e-10\n",
    "A = U @ S @ Vt\n",
    "\n",
    "S_inv = np.copy(S.T)\n",
    "S_inv[S_inv>0] = 1/S_inv[S_inv>0]\n",
    "\n",
    "# Minimum Norm Solution\n",
    "x_exact = Vt.T @ S_inv @ U.T @ b\n",
    "\n",
    "print(f\"x_exact = {x_exact}\")\n",
    "print_dict(solve_least_squares(A, b))"
   ]
  },
  {
   "cell_type": "code",
   "execution_count": 12,
   "id": "c8e86347-4efb-46bb-8dce-705c12c1c37b",
   "metadata": {},
   "outputs": [
    {
     "name": "stdout",
     "output_type": "stream",
     "text": [
      "norm of x:\n",
      "x_exact:   66028022639.34349\n",
      "lsqr:      0.5092520023062157\n",
      "normal_eq: 0.993975690303498\n",
      "\n",
      "norm of Ax-b:\n",
      "x_exact:   2.1991587442017146\n",
      "lsqr:      6.959403209201494\n",
      "normal_eq: 6.959403209120507\n"
     ]
    }
   ],
   "source": [
    "print(f\"norm of x:\\n\"\n",
    "      f\"x_exact:   {norm(x_exact)}\\n\"\n",
    "      f\"lsqr:      {norm(x_solution['lsqr'])}\\n\"\n",
    "      f\"normal_eq: {norm(x_solution['normal_eq'])}\\n\"\n",
    "     )\n",
    "print(f\"norm of Ax-b:\\n\"\n",
    "      f\"x_exact:   {norm(A @ x_exact - b)}\\n\"\n",
    "      f\"lsqr:      {norm(A @ x_solution['lsqr'] - b)}\\n\"\n",
    "      f\"normal_eq: {norm(A @ x_solution['normal_eq'] - b)}\"\n",
    "     )"
   ]
  },
  {
   "cell_type": "code",
   "execution_count": 13,
   "id": "9fdb4139-2163-4ada-bbe2-532079c1d605",
   "metadata": {},
   "outputs": [
    {
     "name": "stderr",
     "output_type": "stream",
     "text": [
      "/Users/lorentzen/github/python3_general/lib/python3.7/site-packages/ipykernel_launcher.py:2: LinAlgWarning: Ill-conditioned matrix (rcond=4.60305e-17): result may not be accurate.\n",
      "  \n"
     ]
    },
    {
     "data": {
      "text/plain": [
       "6.959372580561515"
      ]
     },
     "execution_count": 13,
     "metadata": {},
     "output_type": "execute_result"
    }
   ],
   "source": [
    "# Warning stems from this. As good/bad as LSQR.\n",
    "np.linalg.norm(A @ linalg.solve(A.T @ A, A.T @ b, assume_a='sym') - b)"
   ]
  },
  {
   "cell_type": "code",
   "execution_count": 14,
   "id": "1d366acd-5ed8-4b40-a7f0-b1765c0c877d",
   "metadata": {},
   "outputs": [
    {
     "data": {
      "text/plain": [
       "array([  27924.82063, -133735.44751,  -37931.59475,  -58511.52324,\n",
       "       -104581.72517])"
      ]
     },
     "execution_count": 14,
     "metadata": {},
     "output_type": "execute_result"
    }
   ],
   "source": [
    "# We can increase the accuracy of iterative methods.\n",
    "# Then we get the same as x_exact.\n",
    "spla.lsqr(A, b, atol=1e-12)[0]"
   ]
  },
  {
   "cell_type": "markdown",
   "id": "4a0380cf-1d7f-467b-bd7b-3ff99ec2ced0",
   "metadata": {},
   "source": [
    "This time not a null space, but an almost null space."
   ]
  },
  {
   "cell_type": "code",
   "execution_count": 15,
   "id": "4b7d96cc-12c0-4893-acd1-e303bda8ee2b",
   "metadata": {},
   "outputs": [
    {
     "data": {
      "text/plain": [
       "array([[ 4.83499e-11],\n",
       "       [-1.92080e-11],\n",
       "       [-3.07160e-11],\n",
       "       [ 1.64669e-11],\n",
       "       [-4.54631e-11],\n",
       "       [-3.48040e-11],\n",
       "       [ 3.01233e-11],\n",
       "       [-2.31151e-11],\n",
       "       [ 2.58315e-11],\n",
       "       [-2.62972e-11]])"
      ]
     },
     "execution_count": 15,
     "metadata": {},
     "output_type": "execute_result"
    }
   ],
   "source": [
    "A @ Vt.T[:p, :1] #@ np.ones(1)"
   ]
  },
  {
   "cell_type": "code",
   "execution_count": 16,
   "id": "75b140dd-bae7-4105-b679-1e95244c950f",
   "metadata": {},
   "outputs": [
    {
     "data": {
      "text/plain": [
       "array([5.e+00, 4.e+00, 3.e+00, 2.e+00, 1.e-10])"
      ]
     },
     "execution_count": 16,
     "metadata": {},
     "output_type": "execute_result"
    }
   ],
   "source": [
    "linalg.svd(A, compute_uv=False)"
   ]
  },
  {
   "cell_type": "markdown",
   "id": "af934802-525e-479a-a1bf-cf7b88bf9060",
   "metadata": {},
   "source": [
    "#### Tiny Perturbation of $b$"
   ]
  },
  {
   "cell_type": "code",
   "execution_count": 17,
   "id": "c296fa6f-4534-48e5-9124-321f31c2bbde",
   "metadata": {},
   "outputs": [
    {
     "name": "stdout",
     "output_type": "stream",
     "text": [
      "x_exact = [ 9.93195e+09 -4.75650e+10 -1.34911e+10 -2.08104e+10 -3.71960e+10]\n",
      "{'gelsd': [ 9.93194e+09 -4.75650e+10 -1.34910e+10 -2.08104e+10 -3.71960e+10],\n",
      " 'gelsy': [ 9.93196e+09 -4.75650e+10 -1.34911e+10 -2.08104e+10 -3.71961e+10],\n",
      " 'lsmr': [-0.21233  0.00708  0.34973 -0.30223 -0.0235 ],\n",
      " 'lsqr': [-0.21233  0.00708  0.34973 -0.30223 -0.0235 ],\n",
      " 'normal_eq': [  48559.68267 -232557.60563  -65960.93621 -101747.67361 -181861.08632]}\n"
     ]
    },
    {
     "name": "stderr",
     "output_type": "stream",
     "text": [
      "/Users/lorentzen/github/python3_general/lib/python3.7/site-packages/ipykernel_launcher.py:46: LinAlgWarning: Ill-conditioned matrix (rcond=4.60305e-17): result may not be accurate.\n"
     ]
    }
   ],
   "source": [
    "print(f\"x_exact = {x_exact}\")\n",
    "print_dict(solve_least_squares(A, b + eps))"
   ]
  },
  {
   "cell_type": "code",
   "execution_count": null,
   "id": "edfa4b66-5a6a-4673-bb3a-3d80c414c487",
   "metadata": {},
   "outputs": [],
   "source": []
  }
 ],
 "metadata": {
  "kernelspec": {
   "display_name": "Python 3",
   "language": "python",
   "name": "python3"
  },
  "language_info": {
   "codemirror_mode": {
    "name": "ipython",
    "version": 3
   },
   "file_extension": ".py",
   "mimetype": "text/x-python",
   "name": "python",
   "nbconvert_exporter": "python",
   "pygments_lexer": "ipython3",
   "version": "3.7.9"
  }
 },
 "nbformat": 4,
 "nbformat_minor": 5
}

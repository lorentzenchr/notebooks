{
 "cells": [
  {
   "cell_type": "markdown",
   "id": "9c0986aa-d6f8-41d9-a011-f6e534ad258c",
   "metadata": {},
   "source": [
    "# Histograms, Gradient Boosted Trees, Group-By Queries and One-Hot Encoding\n",
    "We start with some imports."
   ]
  },
  {
   "cell_type": "code",
   "execution_count": 1,
   "id": "35826004-d875-42cf-b642-2bd1ee292e67",
   "metadata": {},
   "outputs": [],
   "source": [
    "import duckdb                    # v0.5.1\n",
    "import matplotlib.pyplot as plt  # v.3.6.1\n",
    "from matplotlib.ticker import MultipleLocator\n",
    "import numpy as np               # v1.23.4\n",
    "import pandas as pd              # v1.5.0\n",
    "import pyarrow as pa             # v9.0.0\n",
    "import tabmat                    # v3.1.2\n",
    "\n",
    "from sklearn.ensemble._hist_gradient_boosting.histogram import (\n",
    "    _build_histogram_root,\n",
    ")                                # v1.1.2\n",
    "from sklearn.ensemble._hist_gradient_boosting.common import (\n",
    "    HISTOGRAM_DTYPE\n",
    ")"
   ]
  },
  {
   "cell_type": "markdown",
   "id": "9cc16567-b10a-4c68-a295-c966d60e967d",
   "metadata": {},
   "source": [
    "## Naive visualisation of histograms"
   ]
  },
  {
   "cell_type": "code",
   "execution_count": 2,
   "id": "a8b706f9-4244-472f-9265-7a4845d4feb4",
   "metadata": {},
   "outputs": [
    {
     "data": {
      "text/html": [
       "<style type=\"text/css\">\n",
       "#T_bbba4_row0_col0, #T_bbba4_row0_col1, #T_bbba4_row3_col0, #T_bbba4_row3_col1 {\n",
       "  background-color: rgb(255, 128, 128);\n",
       "}\n",
       "#T_bbba4_row1_col0, #T_bbba4_row1_col1 {\n",
       "  background-color: rgb(128, 128, 255);\n",
       "}\n",
       "#T_bbba4_row2_col0, #T_bbba4_row2_col1, #T_bbba4_row4_col0, #T_bbba4_row4_col1 {\n",
       "  background-color: rgb(128, 255, 128);\n",
       "}\n",
       "</style>\n",
       "<table id=\"T_bbba4\">\n",
       "  <thead>\n",
       "    <tr>\n",
       "      <th class=\"blank level0\" >&nbsp;</th>\n",
       "      <th id=\"T_bbba4_level0_col0\" class=\"col_heading level0 col0\" >bin</th>\n",
       "      <th id=\"T_bbba4_level0_col1\" class=\"col_heading level0 col1\" >hessian</th>\n",
       "    </tr>\n",
       "  </thead>\n",
       "  <tbody>\n",
       "    <tr>\n",
       "      <th id=\"T_bbba4_level0_row0\" class=\"row_heading level0 row0\" >0</th>\n",
       "      <td id=\"T_bbba4_row0_col0\" class=\"data row0 col0\" >0</td>\n",
       "      <td id=\"T_bbba4_row0_col1\" class=\"data row0 col1\" >1.500000</td>\n",
       "    </tr>\n",
       "    <tr>\n",
       "      <th id=\"T_bbba4_level0_row1\" class=\"row_heading level0 row1\" >1</th>\n",
       "      <td id=\"T_bbba4_row1_col0\" class=\"data row1 col0\" >2</td>\n",
       "      <td id=\"T_bbba4_row1_col1\" class=\"data row1 col1\" >1.000000</td>\n",
       "    </tr>\n",
       "    <tr>\n",
       "      <th id=\"T_bbba4_level0_row2\" class=\"row_heading level0 row2\" >2</th>\n",
       "      <td id=\"T_bbba4_row2_col0\" class=\"data row2 col0\" >1</td>\n",
       "      <td id=\"T_bbba4_row2_col1\" class=\"data row2 col1\" >2.000000</td>\n",
       "    </tr>\n",
       "    <tr>\n",
       "      <th id=\"T_bbba4_level0_row3\" class=\"row_heading level0 row3\" >3</th>\n",
       "      <td id=\"T_bbba4_row3_col0\" class=\"data row3 col0\" >0</td>\n",
       "      <td id=\"T_bbba4_row3_col1\" class=\"data row3 col1\" >2.500000</td>\n",
       "    </tr>\n",
       "    <tr>\n",
       "      <th id=\"T_bbba4_level0_row4\" class=\"row_heading level0 row4\" >4</th>\n",
       "      <td id=\"T_bbba4_row4_col0\" class=\"data row4 col0\" >1</td>\n",
       "      <td id=\"T_bbba4_row4_col1\" class=\"data row4 col1\" >3.000000</td>\n",
       "    </tr>\n",
       "  </tbody>\n",
       "</table>\n"
      ],
      "text/plain": [
       "<pandas.io.formats.style.Styler at 0x136bce670>"
      ]
     },
     "execution_count": 2,
     "metadata": {},
     "output_type": "execute_result"
    }
   ],
   "source": [
    "def highlight(df):\n",
    "    if df[\"bin\"] == 0:\n",
    "        return [\"background-color: rgb(255, 128, 128)\"] * len(df)\n",
    "    elif df[\"bin\"] == 1:\n",
    "        return [\"background-color: rgb(128, 255, 128)\"] * len(df)\n",
    "    else:\n",
    "        return ['background-color: rgb(128, 128, 255)'] * len(df)\n",
    "\n",
    "df = pd.DataFrame({\"bin\": [0, 2, 1, 0, 1], \"hessian\": [1.5, 1, 2, 2.5, 3]})\n",
    "df.style.apply(highlight, axis=1)"
   ]
  },
  {
   "cell_type": "code",
   "execution_count": 3,
   "id": "1f0587ab-f3be-4470-93b1-4b04c4d7248f",
   "metadata": {},
   "outputs": [],
   "source": [
    "# df.style.apply(highlight, axis=1).to_html()"
   ]
  },
  {
   "cell_type": "code",
   "execution_count": 4,
   "id": "bf302c62-1712-4b0c-90c0-63a52fb7242d",
   "metadata": {},
   "outputs": [
    {
     "data": {
      "text/plain": [
       "Text(0.5, 1.0, 'Histogram')"
      ]
     },
     "execution_count": 4,
     "metadata": {},
     "output_type": "execute_result"
    },
    {
     "data": {
      "image/png": "[encoded data removed]",
      "text/plain": [
       "<Figure size 400x300 with 1 Axes>"
      ]
     },
     "metadata": {},
     "output_type": "display_data"
    }
   ],
   "source": [
    "fig, ax = plt.subplots(figsize=(4, 3))\n",
    "hist = np.zeros(df[\"bin\"].max() + 1)\n",
    "old_hist = hist.copy()\n",
    "for i in range(len(df)):\n",
    "    old_hist = hist.copy()\n",
    "    hist[df.loc[i, \"bin\"]] += df.loc[i, \"hessian\"]\n",
    "    if df.loc[i, \"bin\"] == 0:\n",
    "        color = (1, 0.5, 0.5)\n",
    "    elif df.loc[i, \"bin\"] == 1:\n",
    "        color = (0.5, 1, 0.5)\n",
    "    else:\n",
    "        color = (0.5, 0.5, 1)\n",
    "    p = ax.bar(\n",
    "        x = [df.loc[i, \"bin\"]],\n",
    "        height=hist[df.loc[i, \"bin\"]] - old_hist[df.loc[i, \"bin\"]],\n",
    "        width=1,\n",
    "        bottom=old_hist[df.loc[i, \"bin\"]],\n",
    "        color=color,\n",
    "        edgecolor=\"black\",\n",
    "    )\n",
    "    ax.bar_label(p, label_type='center')\n",
    "ax.xaxis.set_major_locator(MultipleLocator(1))\n",
    "ax.set_ylim([0, 6])\n",
    "ax.set_xlabel(\"bin index\")\n",
    "ax.set_ylabel(\"sum of hessian\")\n",
    "ax.set_title(\"Histogram\")"
   ]
  },
  {
   "cell_type": "markdown",
   "id": "b4975b57-541f-43c3-a59e-9b70fda263b5",
   "metadata": {},
   "source": [
    "## Using dedicated histogram method"
   ]
  },
  {
   "cell_type": "markdown",
   "id": "d34aa876-26cb-4026-b76f-b9571835172b",
   "metadata": {},
   "source": [
    "We simulate `n_obs` data points and a single feature that is already binned: `binned_feature`.\n",
    "Instead of observations `y`, gradient boosted trees have `gradients` and `hessians`."
   ]
  },
  {
   "cell_type": "code",
   "execution_count": 2,
   "id": "7b10c365-3564-4fc1-b342-cbd41704827b",
   "metadata": {},
   "outputs": [],
   "source": [
    "rng = np.random.default_rng(42)\n",
    "n_obs = 1000_000\n",
    "n_bins = 256\n",
    "binned_feature = rng.integers(0, n_bins, size=n_obs, dtype=np.uint8)\n",
    "gradients = rng.normal(size=n_obs).astype(np.float32)\n",
    "hessians = rng.lognormal(size=n_obs).astype(np.float32)"
   ]
  },
  {
   "cell_type": "markdown",
   "id": "00f6886d-29f1-4a7e-91ac-007fec5f49c2",
   "metadata": {},
   "source": [
    "Now, we use the scikit-learn histogram method."
   ]
  },
  {
   "cell_type": "code",
   "execution_count": 4,
   "id": "b40f3d0b-ba85-46ae-a638-79dc4b7f9fef",
   "metadata": {},
   "outputs": [
    {
     "name": "stdout",
     "output_type": "stream",
     "text": [
      "CPU times: user 1.56 ms, sys: 1e+03 ns, total: 1.56 ms\n",
      "Wall time: 1.57 ms\n"
     ]
    }
   ],
   "source": [
    "hist_root = np.zeros((1, n_bins), dtype=HISTOGRAM_DTYPE)\n",
    "%time _build_histogram_root(0, binned_feature, gradients, hessians, hist_root)"
   ]
  },
  {
   "cell_type": "markdown",
   "id": "e0bc8918-d5a4-4451-8069-e46ed1e250c4",
   "metadata": {},
   "source": [
    "We observe that this is pretty fast. Keep im mind that this operation is executed many times when training gradient boosted trees with histograms: for each feature and for earch tree split for each boosting round.\n",
    "\n",
    "Let's have a look at the results of the first 5 bins. The first column is the summed gradients, the second column the summed hessians and the last column is the count of observations."
   ]
  },
  {
   "cell_type": "code",
   "execution_count": 5,
   "id": "653a30cd-4a30-4f95-99fe-0090a427721d",
   "metadata": {},
   "outputs": [
    {
     "data": {
      "text/plain": [
       "array([[(-79.72386998, 6508.89500265, 3894),\n",
       "        ( 37.98393589, 6460.63222205, 3998),\n",
       "        ( 53.54256977, 6492.22722797, 3805),\n",
       "        ( 21.19542398, 6797.34159299, 3928),\n",
       "        ( 16.24716742, 6327.03757573, 3875)]],\n",
       "      dtype=[('sum_gradients', '<f8'), ('sum_hessians', '<f8'), ('count', '<u4')])"
      ]
     },
     "execution_count": 5,
     "metadata": {},
     "output_type": "execute_result"
    }
   ],
   "source": [
    "hist_root[:, 0:5]"
   ]
  },
  {
   "cell_type": "markdown",
   "id": "b173a825-8431-4b91-8aab-f270f7b1d66e",
   "metadata": {},
   "source": [
    "Let't plot the histograms. Note that gradients can be both positive and negative. We randomly generated the gradients and hessians and this in reflected in the histograms: We see a lot of noise."
   ]
  },
  {
   "cell_type": "code",
   "execution_count": 48,
   "id": "bf1a463b-1082-4482-8c6c-21848dfbd069",
   "metadata": {},
   "outputs": [
    {
     "data": {
      "image/png": "[encoded data removed]",
      "text/plain": [
       "<Figure size 800x200 with 3 Axes>"
      ]
     },
     "metadata": {},
     "output_type": "display_data"
    }
   ],
   "source": [
    "fig, axes = plt.subplots(1, 3, figsize=(8, 2))\n",
    "axes[0].stairs(hist_root[\"sum_gradients\"].squeeze(), np.arange(n_bins+1)-0.5, fill=True)\n",
    "axes[0].set_ylabel(\"sum of gradients\")\n",
    "axes[1].stairs(hist_root[\"sum_hessians\"].squeeze(), np.arange(n_bins+1)-0.5, fill=True)\n",
    "axes[1].set_ylabel(\"sum of hessians\")\n",
    "axes[2].stairs(hist_root[\"count\"].squeeze(), np.arange(n_bins+1)-0.5, fill=True)\n",
    "axes[2].set_ylabel(\"counts\")\n",
    "fig.suptitle(\"Histograms\", fontsize=16)\n",
    "fig.tight_layout()"
   ]
  },
  {
   "cell_type": "markdown",
   "id": "a40db5e2-de34-40ce-a8bc-8ed83bee73c8",
   "metadata": {},
   "source": [
    "## Using SQL Group By Query\n",
    "This whole operation looks like a simple group-by query. We use duckdb as our query engine. Instead of pandas, we use pyarrow to create a table which duckdb can operate on natively."
   ]
  },
  {
   "cell_type": "code",
   "execution_count": 5,
   "id": "7149bdf4-5696-44f2-bf3b-c10edf62c263",
   "metadata": {},
   "outputs": [],
   "source": [
    "con = duckdb.connect()\n",
    "arrow_table = pa.Table.from_pydict(\n",
    "    {\n",
    "        \"bin\": binned_feature,\n",
    "        \"gradients\": gradients,\n",
    "        \"hessians\": hessians,\n",
    "})\n",
    "# Read data once to make timing fairer\n",
    "arrow_result = con.execute(\"SELECT * FROM arrow_table\")"
   ]
  },
  {
   "cell_type": "code",
   "execution_count": 6,
   "id": "fc6cf63c-a0bf-43dc-9d53-3a7a533989ab",
   "metadata": {},
   "outputs": [
    {
     "name": "stdout",
     "output_type": "stream",
     "text": [
      "CPU times: user 23 ms, sys: 3.57 ms, total: 26.5 ms\n",
      "Wall time: 6.52 ms\n"
     ]
    }
   ],
   "source": [
    "%%time\n",
    "arrow_result = con.execute(\"\"\"\n",
    "SELECT\n",
    "    bin as bin,\n",
    "    SUM(gradients) as sum_gradients,\n",
    "    SUM(hessians) as sum_hessians,\n",
    "    COUNT() as count\n",
    "FROM arrow_table\n",
    "GROUP BY bin\n",
    "\"\"\").arrow()"
   ]
  },
  {
   "cell_type": "markdown",
   "id": "1da809aa-8dbd-4efe-b27a-23ce97c265d4",
   "metadata": {},
   "source": [
    "Altough this is pretty fast, it is still slower than the dedicated routine.\n",
    "\n",
    "Again, let's look at the result. This time, wee need to sort by bin in order to compare to previous results."
   ]
  },
  {
   "cell_type": "code",
   "execution_count": 7,
   "id": "da319f33-76b6-4ed6-a6fd-15a1a18eaa81",
   "metadata": {},
   "outputs": [
    {
     "data": {
      "text/plain": [
       "pyarrow.Table\n",
       "bin: uint8\n",
       "sum_gradients: double\n",
       "sum_hessians: double\n",
       "count: int64\n",
       "----\n",
       "bin: [[0,1,2,3,4]]\n",
       "sum_gradients: [[-79.72386997545254,37.98393589106854,53.54256977112527,21.195423980039777,16.247167424764484]]\n",
       "sum_hessians: [[6508.895002648234,6460.632222048938,6492.227227974683,6797.341592986137,6327.037575732917]]\n",
       "count: [[3894,3998,3805,3928,3875]]"
      ]
     },
     "execution_count": 7,
     "metadata": {},
     "output_type": "execute_result"
    }
   ],
   "source": [
    "arrow_result.sort_by(\"bin\").slice(length=5)"
   ]
  },
  {
   "cell_type": "markdown",
   "id": "38310f45-2192-424c-b8ca-b50dbb28da43",
   "metadata": {},
   "source": [
    "We are relieved to obtain the exact same result for the first 5 rows. Interestingly, this group-by query can also be directly computed with Arrow itself."
   ]
  },
  {
   "cell_type": "code",
   "execution_count": 8,
   "id": "01a6322b-1550-4608-8da5-62844f812c42",
   "metadata": {},
   "outputs": [
    {
     "name": "stdout",
     "output_type": "stream",
     "text": [
      "CPU times: user 10.3 ms, sys: 2.09 ms, total: 12.4 ms\n",
      "Wall time: 10.8 ms\n"
     ]
    }
   ],
   "source": [
    "%%time\n",
    "arrow_result = arrow_table.group_by(\"bin\").aggregate(\n",
    "    [\n",
    "        (\"gradients\", \"sum\"),\n",
    "        (\"hessians\", \"sum\"),\n",
    "        (\"bin\", \"count\"),\n",
    "    ]\n",
    ")"
   ]
  },
  {
   "cell_type": "code",
   "execution_count": 9,
   "id": "e62e7176-ed6f-424f-ab21-812a00b98e9e",
   "metadata": {},
   "outputs": [
    {
     "data": {
      "text/plain": [
       "pyarrow.Table\n",
       "gradients_sum: double\n",
       "hessians_sum: double\n",
       "bin_count: int64\n",
       "bin: uint8\n",
       "----\n",
       "gradients_sum: [[-79.72386997545254,37.98393589106854,53.54256977112527,21.195423980039777,16.247167424764484]]\n",
       "hessians_sum: [[6508.895002648234,6460.632222048938,6492.227227974683,6797.341592986137,6327.037575732917]]\n",
       "bin_count: [[3894,3998,3805,3928,3875]]\n",
       "bin: [[0,1,2,3,4]]"
      ]
     },
     "execution_count": 9,
     "metadata": {},
     "output_type": "execute_result"
    }
   ],
   "source": [
    "arrow_result.sort_by(\"bin\").slice(length=5)"
   ]
  },
  {
   "cell_type": "markdown",
   "id": "c2e90147-b6b2-4682-b55a-5ee490ebf4a0",
   "metadata": {},
   "source": [
    "## One-Hot encoded matrix\n",
    "Quite interestingly, this filling up a histogram with given bin indices can be represented as a matrix multiplication.\n",
    "The trick is to treat `binned_feature` as a categorical feature and use its one-hot encoded representation `m_OHE`.\n",
    "As `binned_feature` already contains the (bin) indices, we can use a further nump trick to cunstruct the `m_OHE`."
   ]
  },
  {
   "cell_type": "code",
   "execution_count": 10,
   "id": "c26df50e-3b74-4ff4-a7f3-3b2a327c14b2",
   "metadata": {},
   "outputs": [
    {
     "name": "stdout",
     "output_type": "stream",
     "text": [
      "CPU times: user 359 ms, sys: 410 ms, total: 769 ms\n",
      "Wall time: 770 ms\n"
     ]
    }
   ],
   "source": [
    "%%time\n",
    "m_OHE = np.eye(n_bins)[binned_feature].T\n",
    "vec = np.column_stack((gradients, hessians, np.ones_like(gradients)))"
   ]
  },
  {
   "cell_type": "code",
   "execution_count": 11,
   "id": "65a0611d-aa3b-4455-895e-2da084ab9065",
   "metadata": {},
   "outputs": [
    {
     "name": "stdout",
     "output_type": "stream",
     "text": [
      "CPU times: user 749 ms, sys: 14.7 ms, total: 763 ms\n",
      "Wall time: 199 ms\n"
     ]
    }
   ],
   "source": [
    "%%time\n",
    "result_ohe = m_OHE @ vec"
   ]
  },
  {
   "cell_type": "code",
   "execution_count": 12,
   "id": "b9aebbe4-2cb0-45f3-83ff-2d8daee07109",
   "metadata": {},
   "outputs": [
    {
     "data": {
      "text/plain": [
       "array([[ -79.72386998, 6508.89500265, 3894.        ],\n",
       "       [  37.98393589, 6460.63222205, 3998.        ],\n",
       "       [  53.54256977, 6492.22722797, 3805.        ],\n",
       "       [  21.19542398, 6797.34159299, 3928.        ],\n",
       "       [  16.24716742, 6327.03757573, 3875.        ]])"
      ]
     },
     "execution_count": 12,
     "metadata": {},
     "output_type": "execute_result"
    }
   ],
   "source": [
    "result_ohe[:5]"
   ]
  },
  {
   "cell_type": "markdown",
   "id": "e4341613-0eef-4cab-a6bd-643fbbbf948b",
   "metadata": {},
   "source": [
    "This is again the same result, but unfortunately much slower and taking much more memory.\n",
    "Both can be improved to some extend with the helpt of tabmat."
   ]
  },
  {
   "cell_type": "code",
   "execution_count": 13,
   "id": "62f5a8e9-1e36-4141-a104-0ab8fa367124",
   "metadata": {},
   "outputs": [
    {
     "name": "stdout",
     "output_type": "stream",
     "text": [
      "CPU times: user 56.1 ms, sys: 22.1 ms, total: 78.3 ms\n",
      "Wall time: 21.5 ms\n"
     ]
    }
   ],
   "source": [
    "%time m_categorical = tabmat.CategoricalMatrix(cat_vec=binned_feature)"
   ]
  },
  {
   "cell_type": "code",
   "execution_count": 14,
   "id": "9d7673fd-8af6-4908-a545-8ff87075a65c",
   "metadata": {},
   "outputs": [],
   "source": [
    "# tabmat needs contigous arrays with dtype = Python float = float64\n",
    "vec = np.asfortranarray(vec, dtype=float)"
   ]
  },
  {
   "cell_type": "code",
   "execution_count": 15,
   "id": "1dab8f46-f3a4-48b5-877c-964464977d50",
   "metadata": {},
   "outputs": [
    {
     "name": "stdout",
     "output_type": "stream",
     "text": [
      "CPU times: user 22.4 ms, sys: 3.73 ms, total: 26.2 ms\n",
      "Wall time: 4.82 ms\n"
     ]
    }
   ],
   "source": [
    "%%time\n",
    "tabmat_result = np.column_stack(\n",
    "    (\n",
    "        vec[:, 0] @ m_categorical,\n",
    "        vec[:, 1] @ m_categorical,\n",
    "        vec[:, 2] @ m_categorical,\n",
    "    )\n",
    ")"
   ]
  },
  {
   "cell_type": "code",
   "execution_count": 16,
   "id": "2a255675-e5b6-4bff-ae95-f23616d8e91b",
   "metadata": {},
   "outputs": [
    {
     "data": {
      "text/plain": [
       "array([[ -79.72386998, 6508.89500265, 3894.        ],\n",
       "       [  37.98393589, 6460.63222205, 3998.        ],\n",
       "       [  53.54256977, 6492.22722797, 3805.        ],\n",
       "       [  21.19542398, 6797.34159299, 3928.        ],\n",
       "       [  16.24716742, 6327.03757573, 3875.        ]])"
      ]
     },
     "execution_count": 16,
     "metadata": {},
     "output_type": "execute_result"
    }
   ],
   "source": [
    "tabmat_result[0:5]"
   ]
  },
  {
   "cell_type": "markdown",
   "id": "a2f1fa22-0d2a-4290-bd3c-611900efd762",
   "metadata": {},
   "source": [
    "While the timing of this approach is quite good, the construction of `CategoricalMatrix` requires quite some time.\n",
    "\n",
    "In the end, the special (Cython) routine wins the timing. The different approaches connect some quite different domains and show how connected algorithms can be."
   ]
  }
 ],
 "metadata": {
  "kernelspec": {
   "display_name": "Python 3 (ipykernel)",
   "language": "python",
   "name": "python3"
  },
  "language_info": {
   "codemirror_mode": {
    "name": "ipython",
    "version": 3
   },
   "file_extension": ".py",
   "mimetype": "text/x-python",
   "name": "python",
   "nbconvert_exporter": "python",
   "pygments_lexer": "ipython3",
   "version": "3.9.14"
  }
 },
 "nbformat": 4,
 "nbformat_minor": 5
}

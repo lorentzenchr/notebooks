{
 "cells": [
  {
   "cell_type": "markdown",
   "metadata": {},
   "source": [
    "# Converting csv to parquet\n",
    "\n",
    "With polars or duckdb, and optional queries between reading and writing."
   ]
  },
  {
   "cell_type": "markdown",
   "metadata": {},
   "source": [
    "## Generate 2.2 GB csv"
   ]
  },
  {
   "cell_type": "code",
   "execution_count": null,
   "metadata": {},
   "outputs": [],
   "source": [
    "import duckdb  # 1.2.1\n",
    "import numpy as np  # 1.26.4\n",
    "import polars as pl  # 1.25.2\n",
    "\n",
    "n = 100_000_000\n",
    "\n",
    "rng = np.random.default_rng(42)\n",
    "\n",
    "df = pl.DataFrame(\n",
    "    {\n",
    "        \"X\": rng.choice([\"a\", \"b\", \"c\"], n),\n",
    "        \"Y\": rng.uniform(0, 1, n),\n",
    "        \"Z\": rng.choice([1, 2, 3, 4, 5], n),\n",
    "    }\n",
    ")\n",
    "\n",
    "df.write_csv(\"data.csv\")"
   ]
  },
  {
   "cell_type": "markdown",
   "metadata": {},
   "source": [
    "## Polars (in lazy mode)"
   ]
  },
  {
   "cell_type": "code",
   "execution_count": null,
   "metadata": {},
   "outputs": [],
   "source": [
    "# Native API\n",
    "pl.thread_pool_size()  # POLARS_MAX_THREADS = 8\n",
    "(\n",
    "    pl.scan_csv(\"data.csv\")\n",
    "    .filter(pl.col(\"X\") == \"a\")\n",
    "    .drop(\"X\")\n",
    "    .sort([\"Y\", \"Z\"])\n",
    "    .sink_parquet(\"data.parquet\", row_group_size=100_000)  # \"zstd\" compression\n",
    ")"
   ]
  },
  {
   "cell_type": "code",
   "execution_count": null,
   "metadata": {},
   "outputs": [],
   "source": [
    "# Via SQL API (slower!?)\n",
    "(\n",
    "    pl.scan_csv(\"data.csv\")\n",
    "    .sql(\"SELECT Y, Z FROM self WHERE X == 'a' ORDER BY Y, Z\")\n",
    "    .sink_parquet(\"data.parquet\", row_group_size=100_000)\n",
    ")"
   ]
  },
  {
   "cell_type": "code",
   "execution_count": 14,
   "metadata": {},
   "outputs": [
    {
     "data": {
      "text/html": [
       "<div><style>\n",
       ".dataframe > thead > tr,\n",
       ".dataframe > tbody > tr {\n",
       "  text-align: right;\n",
       "  white-space: pre-wrap;\n",
       "}\n",
       "</style>\n",
       "<small>shape: (5, 2)</small><table border=\"1\" class=\"dataframe\"><thead><tr><th>Y</th><th>Z</th></tr><tr><td>f64</td><td>i64</td></tr></thead><tbody><tr><td>3.7796e-8</td><td>4</td></tr><tr><td>5.0273e-8</td><td>5</td></tr><tr><td>5.7652e-8</td><td>4</td></tr><tr><td>8.0578e-8</td><td>3</td></tr><tr><td>8.1598e-8</td><td>4</td></tr></tbody></table></div>"
      ],
      "text/plain": [
       "shape: (5, 2)\n",
       "┌───────────┬─────┐\n",
       "│ Y         ┆ Z   │\n",
       "│ ---       ┆ --- │\n",
       "│ f64       ┆ i64 │\n",
       "╞═══════════╪═════╡\n",
       "│ 3.7796e-8 ┆ 4   │\n",
       "│ 5.0273e-8 ┆ 5   │\n",
       "│ 5.7652e-8 ┆ 4   │\n",
       "│ 8.0578e-8 ┆ 3   │\n",
       "│ 8.1598e-8 ┆ 4   │\n",
       "└───────────┴─────┘"
      ]
     },
     "execution_count": 14,
     "metadata": {},
     "output_type": "execute_result"
    }
   ],
   "source": [
    "# Result ok?\n",
    "pl.scan_parquet(\"data.parquet\").head(5).collect()"
   ]
  },
  {
   "cell_type": "markdown",
   "metadata": {},
   "source": [
    "## Duckdb"
   ]
  },
  {
   "cell_type": "code",
   "execution_count": null,
   "metadata": {},
   "outputs": [],
   "source": [
    "con = duckdb.connect(config={\"threads\": 8, \"memory_limit\": \"4GB\"})\n",
    "\n",
    "con.sql(\n",
    "    \"\"\"\n",
    "    COPY (\n",
    "        SELECT Y, Z\n",
    "        FROM 'data.csv'\n",
    "        WHERE X == 'a'\n",
    "        ORDER BY Y, Z\n",
    "    ) TO 'data.parquet' (FORMAT parquet, COMPRESSION zstd, ROW_GROUP_SIZE 100_000)\n",
    "    \"\"\"\n",
    ")"
   ]
  },
  {
   "cell_type": "code",
   "execution_count": 28,
   "metadata": {},
   "outputs": [
    {
     "data": {
      "text/plain": [
       "┌────────────────────────┬───────┐\n",
       "│           Y            │   Z   │\n",
       "│         double         │ int64 │\n",
       "├────────────────────────┼───────┤\n",
       "│  3.779571322581887e-08 │     4 │\n",
       "│ 5.0273087692787044e-08 │     5 │\n",
       "│   5.76523543349694e-08 │     4 │\n",
       "│  8.057776434977626e-08 │     3 │\n",
       "│  8.159834352650108e-08 │     4 │\n",
       "└────────────────────────┴───────┘"
      ]
     },
     "execution_count": 28,
     "metadata": {},
     "output_type": "execute_result"
    }
   ],
   "source": [
    "con.sql(\"SELECT * FROM 'data.parquet' LIMIT 5\")"
   ]
  },
  {
   "cell_type": "markdown",
   "metadata": {},
   "source": [
    "## Resulting file\n",
    "\n",
    "In all cases, the resulting parquet file is of the same size, around 170 MB (because of the expensive double)."
   ]
  },
  {
   "cell_type": "code",
   "execution_count": null,
   "metadata": {},
   "outputs": [],
   "source": []
  }
 ],
 "metadata": {
  "kernelspec": {
   "display_name": ".venv",
   "language": "python",
   "name": "python3"
  },
  "language_info": {
   "codemirror_mode": {
    "name": "ipython",
    "version": 3
   },
   "file_extension": ".py",
   "mimetype": "text/x-python",
   "name": "python",
   "nbconvert_exporter": "python",
   "pygments_lexer": "ipython3",
   "version": "3.11.8"
  }
 },
 "nbformat": 4,
 "nbformat_minor": 2
}

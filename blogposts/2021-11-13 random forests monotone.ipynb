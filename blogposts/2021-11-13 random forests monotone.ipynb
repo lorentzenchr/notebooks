{
 "cells": [
  {
   "cell_type": "markdown",
   "id": "expensive-excess",
   "metadata": {},
   "source": [
    "# Random forests with monotonic constraints"
   ]
  },
  {
   "cell_type": "markdown",
   "id": "increased-hamburg",
   "metadata": {},
   "source": [
    "This notebook shows how ow to use XGBoost's random forest mode in order to produce random forests with monotonic constraints.\n",
    "\n",
    "To illustrate, we use a data set of information on 20'000 houses\n",
    "from Kings County, see below."
   ]
  },
  {
   "cell_type": "markdown",
   "id": "distributed-mathematics",
   "metadata": {},
   "source": [
    "## Unconstrained model"
   ]
  },
  {
   "cell_type": "code",
   "execution_count": 2,
   "id": "35d4aa62",
   "metadata": {},
   "outputs": [],
   "source": [
    "%load_ext lab_black"
   ]
  },
  {
   "cell_type": "code",
   "execution_count": 1,
   "id": "4e274bc2",
   "metadata": {},
   "outputs": [
    {
     "name": "stdout",
     "output_type": "stream",
     "text": [
      "Shape:  (21613, 20)\n"
     ]
    },
    {
     "data": {
      "text/html": [
       "<div>\n",
       "<style scoped>\n",
       "    .dataframe tbody tr th:only-of-type {\n",
       "        vertical-align: middle;\n",
       "    }\n",
       "\n",
       "    .dataframe tbody tr th {\n",
       "        vertical-align: top;\n",
       "    }\n",
       "\n",
       "    .dataframe thead th {\n",
       "        text-align: right;\n",
       "    }\n",
       "</style>\n",
       "<table border=\"1\" class=\"dataframe\">\n",
       "  <thead>\n",
       "    <tr style=\"text-align: right;\">\n",
       "      <th></th>\n",
       "      <th>date</th>\n",
       "      <th>price</th>\n",
       "      <th>bedrooms</th>\n",
       "      <th>bathrooms</th>\n",
       "      <th>sqft_living</th>\n",
       "      <th>sqft_lot</th>\n",
       "      <th>floors</th>\n",
       "      <th>waterfront</th>\n",
       "      <th>view</th>\n",
       "      <th>condition</th>\n",
       "      <th>grade</th>\n",
       "      <th>sqft_above</th>\n",
       "      <th>sqft_basement</th>\n",
       "      <th>yr_built</th>\n",
       "      <th>yr_renovated</th>\n",
       "      <th>zipcode</th>\n",
       "      <th>lat</th>\n",
       "      <th>long</th>\n",
       "      <th>sqft_living15</th>\n",
       "      <th>sqft_lot15</th>\n",
       "    </tr>\n",
       "  </thead>\n",
       "  <tbody>\n",
       "    <tr>\n",
       "      <th>0</th>\n",
       "      <td>20141013T000000</td>\n",
       "      <td>221900.0</td>\n",
       "      <td>3.0</td>\n",
       "      <td>1.00</td>\n",
       "      <td>1180.0</td>\n",
       "      <td>5650.0</td>\n",
       "      <td>1.0</td>\n",
       "      <td>0.0</td>\n",
       "      <td>0.0</td>\n",
       "      <td>3.0</td>\n",
       "      <td>7.0</td>\n",
       "      <td>1180.0</td>\n",
       "      <td>0.0</td>\n",
       "      <td>1955.0</td>\n",
       "      <td>0.0</td>\n",
       "      <td>98178</td>\n",
       "      <td>47.5112</td>\n",
       "      <td>-122.257</td>\n",
       "      <td>1340.0</td>\n",
       "      <td>5650.0</td>\n",
       "    </tr>\n",
       "    <tr>\n",
       "      <th>1</th>\n",
       "      <td>20141209T000000</td>\n",
       "      <td>538000.0</td>\n",
       "      <td>3.0</td>\n",
       "      <td>2.25</td>\n",
       "      <td>2570.0</td>\n",
       "      <td>7242.0</td>\n",
       "      <td>2.0</td>\n",
       "      <td>0.0</td>\n",
       "      <td>0.0</td>\n",
       "      <td>3.0</td>\n",
       "      <td>7.0</td>\n",
       "      <td>2170.0</td>\n",
       "      <td>400.0</td>\n",
       "      <td>1951.0</td>\n",
       "      <td>1991.0</td>\n",
       "      <td>98125</td>\n",
       "      <td>47.7210</td>\n",
       "      <td>-122.319</td>\n",
       "      <td>1690.0</td>\n",
       "      <td>7639.0</td>\n",
       "    </tr>\n",
       "    <tr>\n",
       "      <th>2</th>\n",
       "      <td>20150225T000000</td>\n",
       "      <td>180000.0</td>\n",
       "      <td>2.0</td>\n",
       "      <td>1.00</td>\n",
       "      <td>770.0</td>\n",
       "      <td>10000.0</td>\n",
       "      <td>1.0</td>\n",
       "      <td>0.0</td>\n",
       "      <td>0.0</td>\n",
       "      <td>3.0</td>\n",
       "      <td>6.0</td>\n",
       "      <td>770.0</td>\n",
       "      <td>0.0</td>\n",
       "      <td>1933.0</td>\n",
       "      <td>0.0</td>\n",
       "      <td>98028</td>\n",
       "      <td>47.7379</td>\n",
       "      <td>-122.233</td>\n",
       "      <td>2720.0</td>\n",
       "      <td>8062.0</td>\n",
       "    </tr>\n",
       "    <tr>\n",
       "      <th>3</th>\n",
       "      <td>20141209T000000</td>\n",
       "      <td>604000.0</td>\n",
       "      <td>4.0</td>\n",
       "      <td>3.00</td>\n",
       "      <td>1960.0</td>\n",
       "      <td>5000.0</td>\n",
       "      <td>1.0</td>\n",
       "      <td>0.0</td>\n",
       "      <td>0.0</td>\n",
       "      <td>5.0</td>\n",
       "      <td>7.0</td>\n",
       "      <td>1050.0</td>\n",
       "      <td>910.0</td>\n",
       "      <td>1965.0</td>\n",
       "      <td>0.0</td>\n",
       "      <td>98136</td>\n",
       "      <td>47.5208</td>\n",
       "      <td>-122.393</td>\n",
       "      <td>1360.0</td>\n",
       "      <td>5000.0</td>\n",
       "    </tr>\n",
       "    <tr>\n",
       "      <th>4</th>\n",
       "      <td>20150218T000000</td>\n",
       "      <td>510000.0</td>\n",
       "      <td>3.0</td>\n",
       "      <td>2.00</td>\n",
       "      <td>1680.0</td>\n",
       "      <td>8080.0</td>\n",
       "      <td>1.0</td>\n",
       "      <td>0.0</td>\n",
       "      <td>0.0</td>\n",
       "      <td>3.0</td>\n",
       "      <td>8.0</td>\n",
       "      <td>1680.0</td>\n",
       "      <td>0.0</td>\n",
       "      <td>1987.0</td>\n",
       "      <td>0.0</td>\n",
       "      <td>98074</td>\n",
       "      <td>47.6168</td>\n",
       "      <td>-122.045</td>\n",
       "      <td>1800.0</td>\n",
       "      <td>7503.0</td>\n",
       "    </tr>\n",
       "  </tbody>\n",
       "</table>\n",
       "</div>"
      ],
      "text/plain": [
       "              date     price  bedrooms  bathrooms  sqft_living  sqft_lot  \\\n",
       "0  20141013T000000  221900.0       3.0       1.00       1180.0    5650.0   \n",
       "1  20141209T000000  538000.0       3.0       2.25       2570.0    7242.0   \n",
       "2  20150225T000000  180000.0       2.0       1.00        770.0   10000.0   \n",
       "3  20141209T000000  604000.0       4.0       3.00       1960.0    5000.0   \n",
       "4  20150218T000000  510000.0       3.0       2.00       1680.0    8080.0   \n",
       "\n",
       "   floors  waterfront  view  condition  grade  sqft_above  sqft_basement  \\\n",
       "0     1.0         0.0   0.0        3.0    7.0      1180.0            0.0   \n",
       "1     2.0         0.0   0.0        3.0    7.0      2170.0          400.0   \n",
       "2     1.0         0.0   0.0        3.0    6.0       770.0            0.0   \n",
       "3     1.0         0.0   0.0        5.0    7.0      1050.0          910.0   \n",
       "4     1.0         0.0   0.0        3.0    8.0      1680.0            0.0   \n",
       "\n",
       "   yr_built  yr_renovated zipcode      lat     long  sqft_living15  sqft_lot15  \n",
       "0    1955.0           0.0   98178  47.5112 -122.257         1340.0      5650.0  \n",
       "1    1951.0        1991.0   98125  47.7210 -122.319         1690.0      7639.0  \n",
       "2    1933.0           0.0   98028  47.7379 -122.233         2720.0      8062.0  \n",
       "3    1965.0           0.0   98136  47.5208 -122.393         1360.0      5000.0  \n",
       "4    1987.0           0.0   98074  47.6168 -122.045         1800.0      7503.0  "
      ]
     },
     "execution_count": 1,
     "metadata": {},
     "output_type": "execute_result"
    }
   ],
   "source": [
    "# Imports\n",
    "import numpy as np\n",
    "from sklearn.datasets import fetch_openml\n",
    "from sklearn.model_selection import train_test_split\n",
    "from sklearn.metrics import mean_squared_error\n",
    "from xgboost import XGBRFRegressor\n",
    "\n",
    "# Fetch data from OpenML\n",
    "df = fetch_openml(data_id=42092, as_frame=True)[\"frame\"]\n",
    "print(\"Shape: \", df.shape)\n",
    "df.head()"
   ]
  },
  {
   "cell_type": "code",
   "execution_count": 3,
   "id": "7430618f",
   "metadata": {},
   "outputs": [],
   "source": [
    "# Prepare data\n",
    "df = df.assign(\n",
    "    year=lambda x: x.date.str[0:4].astype(int),\n",
    "    zipcode=lambda x: x.zipcode.astype(int),\n",
    "    log_sqft_lot=lambda x: np.log(x.sqft_lot),\n",
    "    building_age=lambda x: x.year - x.yr_built,\n",
    ")\n",
    "\n",
    "# Feature list\n",
    "xvars = [\n",
    "    \"grade\",\n",
    "    \"year\",\n",
    "    \"building_age\",\n",
    "    \"sqft_living\",\n",
    "    \"log_sqft_lot\",\n",
    "    \"bedrooms\",\n",
    "    \"bathrooms\",\n",
    "    \"floors\",\n",
    "    \"zipcode\",\n",
    "    \"lat\",\n",
    "    \"long\",\n",
    "    \"condition\",\n",
    "    \"waterfront\",\n",
    "]\n",
    "\n",
    "# Data split\n",
    "y_train, y_test, X_train, X_test = train_test_split(\n",
    "    np.log(df[\"price\"]), df[xvars], train_size=0.8, random_state=766\n",
    ")"
   ]
  },
  {
   "cell_type": "code",
   "execution_count": 5,
   "id": "8b555594",
   "metadata": {},
   "outputs": [
    {
     "name": "stdout",
     "output_type": "stream",
     "text": [
      "RMSE: 0.176\n"
     ]
    }
   ],
   "source": [
    "# Model\n",
    "param_dict = dict(\n",
    "    n_estimators=500,\n",
    "    max_depth=20,\n",
    "    learning_rate=1,\n",
    "    subsample=0.63,\n",
    "    colsample_bynode=1 / 3,\n",
    "    reg_lambda=0,\n",
    "    objective=\"reg:squarederror\",\n",
    "    min_child_weight=2,\n",
    ")\n",
    "\n",
    "unconstrained = XGBRFRegressor(**param_dict).fit(X_train, y_train)\n",
    "\n",
    "# Test RMSE 0.176\n",
    "pred = unconstrained.predict(X_test)\n",
    "print(f\"RMSE: {mean_squared_error(y_test, pred, squared=False):.03f}\")"
   ]
  },
  {
   "cell_type": "code",
   "execution_count": 6,
   "id": "united-subject",
   "metadata": {},
   "outputs": [
    {
     "data": {
      "text/plain": [
       "<sklearn.inspection._plot.partial_dependence.PartialDependenceDisplay at 0x2c0f8f5c100>"
      ]
     },
     "execution_count": 6,
     "metadata": {},
     "output_type": "execute_result"
    },
    {
     "data": {
      "image/png": "[encoded data removed]",
      "text/plain": [
       "<Figure size 432x288 with 2 Axes>"
      ]
     },
     "metadata": {
      "needs_background": "light"
     },
     "output_type": "display_data"
    }
   ],
   "source": [
    "# ICE and PDP\n",
    "from sklearn.inspection import PartialDependenceDisplay\n",
    "\n",
    "PartialDependenceDisplay.from_estimator(\n",
    "    unconstrained,\n",
    "    X=X_train,\n",
    "    features=[\"log_sqft_lot\"],\n",
    "    kind=\"both\",\n",
    "    subsample=20,\n",
    "    random_state=1,\n",
    ")"
   ]
  },
  {
   "cell_type": "markdown",
   "id": "extreme-girlfriend",
   "metadata": {},
   "source": [
    "## Constrained model"
   ]
  },
  {
   "cell_type": "code",
   "execution_count": 7,
   "id": "719ebb08",
   "metadata": {},
   "outputs": [
    {
     "name": "stdout",
     "output_type": "stream",
     "text": [
      "(0,0,0,0,1,0,0,0,0,0,0,0,0)\n",
      "RMSE: 0.178\n"
     ]
    }
   ],
   "source": [
    "# One needs to pass the constraints as single string, which is rather ugly\n",
    "mc = \"(\" + \",\".join([str(int(x == \"log_sqft_lot\")) for x in xvars]) + \")\"\n",
    "print(mc)\n",
    "\n",
    "# Model\n",
    "constrained = XGBRFRegressor(monotone_constraints=mc, **param_dict)\n",
    "constrained.fit(X_train, y_train)\n",
    "\n",
    "# Test RMSE: 0.178\n",
    "pred = constrained.predict(X_test)\n",
    "print(f\"RMSE: {mean_squared_error(y_test, pred, squared=False):.03f}\")"
   ]
  },
  {
   "cell_type": "code",
   "execution_count": 8,
   "id": "informed-balloon",
   "metadata": {},
   "outputs": [
    {
     "data": {
      "text/plain": [
       "<sklearn.inspection._plot.partial_dependence.PartialDependenceDisplay at 0x2c0f8018910>"
      ]
     },
     "execution_count": 8,
     "metadata": {},
     "output_type": "execute_result"
    },
    {
     "data": {
      "image/png": "[encoded data removed]",
      "text/plain": [
       "<Figure size 432x288 with 2 Axes>"
      ]
     },
     "metadata": {
      "needs_background": "light"
     },
     "output_type": "display_data"
    }
   ],
   "source": [
    "# ICE\n",
    "PartialDependenceDisplay.from_estimator(\n",
    "    constrained,\n",
    "    X=X_train,\n",
    "    features=[\"log_sqft_lot\"],\n",
    "    kind=\"both\",\n",
    "    subsample=20,\n",
    "    random_state=1,\n",
    ")"
   ]
  },
  {
   "cell_type": "code",
   "execution_count": null,
   "id": "91c3b705",
   "metadata": {},
   "outputs": [],
   "source": []
  }
 ],
 "metadata": {
  "kernelspec": {
   "display_name": "Python 3",
   "language": "python",
   "name": "python3"
  },
  "language_info": {
   "codemirror_mode": {
    "name": "ipython",
    "version": 3
   },
   "file_extension": ".py",
   "mimetype": "text/x-python",
   "name": "python",
   "nbconvert_exporter": "python",
   "pygments_lexer": "ipython3",
   "version": "3.8.11"
  }
 },
 "nbformat": 4,
 "nbformat_minor": 5
}

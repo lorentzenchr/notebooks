{
 "cells": [
  {
   "cell_type": "markdown",
   "id": "4ab17211-0e2c-427b-b7c8-e8a6a45a1c5d",
   "metadata": {},
   "source": [
    "# Personal Highlights of Scikit-Learn 1.0\n",
    "\n",
    "## 1. Feature Names"
   ]
  },
  {
   "cell_type": "code",
   "execution_count": 1,
   "id": "7c45fb59-a685-49ec-8c86-e62666fb40ce",
   "metadata": {},
   "outputs": [
    {
     "data": {
      "text/plain": [
       "array(['age', 'pet_cat', 'pet_dog', 'pet_fish'], dtype=object)"
      ]
     },
     "execution_count": 1,
     "metadata": {},
     "output_type": "execute_result"
    }
   ],
   "source": [
    "from sklearn.compose import ColumnTransformer\n",
    "from sklearn.linear_model import LogisticRegression\n",
    "from sklearn.pipeline import make_pipeline\n",
    "from sklearn.preprocessing import OneHotEncoder, StandardScaler\n",
    "import pandas as pd\n",
    "\n",
    "df = pd.DataFrame({\n",
    "    \"pet\": [\"dog\", \"cat\", \"fish\"],\n",
    "    \"age\": [3, 7, 1],\n",
    "    \"noise\": [-99, pd.NA, 1e-10],\n",
    "    \"target\": [1, 0, 1],\n",
    "})\n",
    "y = df.pop(\"target\")\n",
    "X = df\n",
    "\n",
    "preprocessor = ColumnTransformer(\n",
    "    [\n",
    "        (\"numerical\", StandardScaler(), [\"age\"]),\n",
    "        (\"categorical\", OneHotEncoder(), [\"pet\"]),\n",
    "    ],\n",
    "    verbose_feature_names_out=False,\n",
    "    remainder=\"drop\",\n",
    ")\n",
    "\n",
    "pipe = make_pipeline(preprocessor, LogisticRegression())\n",
    "pipe.fit(X, y)\n",
    "pipe[:-1].get_feature_names_out()"
   ]
  },
  {
   "cell_type": "markdown",
   "id": "0d539d4f-1fcf-484a-91e2-0dcdfb6d00e3",
   "metadata": {},
   "source": [
    "## 2. ColumnTransformer allows changed order of columns"
   ]
  },
  {
   "cell_type": "code",
   "execution_count": 2,
   "id": "695375c0-9c87-42ab-be83-e8660cb3e4f7",
   "metadata": {},
   "outputs": [
    {
     "data": {
      "text/plain": [
       "array([1, 0, 1])"
      ]
     },
     "execution_count": 2,
     "metadata": {},
     "output_type": "execute_result"
    }
   ],
   "source": [
    "df_new = pd.DataFrame({\n",
    "    \"age\": [1, 9, 3],\n",
    "    \"another_noise\": [pd.NA, -99, 1e-10],\n",
    "    \"pet\": [\"cat\", \"dog\", \"fish\"],\n",
    "})\n",
    "pipe.predict(df_new)"
   ]
  }
 ],
 "metadata": {
  "kernelspec": {
   "display_name": "Python 3 (ipykernel)",
   "language": "python",
   "name": "python3"
  },
  "language_info": {
   "codemirror_mode": {
    "name": "ipython",
    "version": 3
   },
   "file_extension": ".py",
   "mimetype": "text/x-python",
   "name": "python",
   "nbconvert_exporter": "python",
   "pygments_lexer": "ipython3",
   "version": "3.9.7"
  }
 },
 "nbformat": 4,
 "nbformat_minor": 5
}
